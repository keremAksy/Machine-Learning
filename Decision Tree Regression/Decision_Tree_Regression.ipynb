{
  "nbformat": 4,
  "nbformat_minor": 0,
  "metadata": {
    "colab": {
      "name": "Decision Tree Regression.ipynb",
      "provenance": [],
      "collapsed_sections": []
    },
    "kernelspec": {
      "name": "python3",
      "display_name": "Python 3"
    },
    "language_info": {
      "name": "python"
    }
  },
  "cells": [
    {
      "cell_type": "markdown",
      "metadata": {
        "id": "2TZ6yUuYOfW7"
      },
      "source": [
        "# Homework 05: Decision Tree Regression\n",
        "## Kerem Aksoy"
      ]
    },
    {
      "cell_type": "markdown",
      "metadata": {
        "id": "-4YUga6DOwUr"
      },
      "source": [
        "Importing Libraries"
      ]
    },
    {
      "cell_type": "code",
      "metadata": {
        "id": "4vuBX3jYOagC"
      },
      "source": [
        "import numpy as np\n",
        "import pandas as pd\n",
        "import matplotlib.pyplot as plt\n",
        "import math"
      ],
      "execution_count": null,
      "outputs": []
    },
    {
      "cell_type": "markdown",
      "metadata": {
        "id": "uxN-vL_lP8_N"
      },
      "source": [
        "##Importing DataSet as traning and test sets"
      ]
    },
    {
      "cell_type": "code",
      "metadata": {
        "id": "uMDFYmJHQESq"
      },
      "source": [
        "data_set = np.genfromtxt(\"hw05_data_set.csv\", delimiter = \",\")\n",
        "\n",
        "#First row is the titles for coloumns, so we need to be careful about it\n",
        "X_train = data_set[1:151,0]\n",
        "Y_train = data_set[1:151,1]\n",
        "\n",
        "X_test = data_set[151:,0]\n",
        "Y_test = data_set[151:,1]\n",
        "\n",
        "#150 for training\n",
        "#122 for test\n",
        "N_train = len(Y_train)\n",
        "N_test = len(Y_test)\n",
        "\n",
        "N = len(Y_test) + len(Y_train) #Total Number of data points\n",
        "D = 1 #Number of features\n",
        "\n",
        "# A Note: In this hw, we have only one feature, so we can code according to one feature. However, I want to code it in a more general way.\n",
        "# So, if we use multifeatures data set, we can change some parameters like D,and directly use this code"
      ],
      "execution_count": null,
      "outputs": []
    },
    {
      "cell_type": "markdown",
      "metadata": {
        "id": "jqFkfc_bU4St"
      },
      "source": [
        "## Initialization"
      ]
    },
    {
      "cell_type": "code",
      "metadata": {
        "id": "_RKK__VXU53m"
      },
      "source": [
        "# Since we implement prepruning that if a node have smaller than P data points, stop splitting\n",
        "P = 25 \n",
        "# create necessary data structures\n",
        "node_indices = {} # Key --> Node , Value--> the indices of the data points which belongs to the node\n",
        "is_terminal = {} # Key --> Node, value --> boolean To know whether a node is terminal or not\n",
        "need_split = {} # Key --> Node, value--> boolean To know whether a split needs a split or not\n",
        "node_splits = {} # The values(boundries) of the splits for each node\n",
        "\n",
        "# put all training instances into the root node initially\n",
        "node_indices[1] = np.array(range(N_train))\n",
        "is_terminal[1] = False\n",
        "need_split[1] = True"
      ],
      "execution_count": null,
      "outputs": []
    },
    {
      "cell_type": "markdown",
      "metadata": {
        "id": "T6nAPLsIWAzn"
      },
      "source": [
        "## Traning the decision tree"
      ]
    },
    {
      "cell_type": "code",
      "metadata": {
        "id": "RJlKumMSWFe2"
      },
      "source": [
        "# learning algorithm\n",
        "iteration=0\n",
        "while True:\n",
        "    iteration+=1\n",
        "    # find nodes that need splitting\n",
        "    # In the first iteration, it only returns root node\n",
        "    split_nodes = [key for key, value in need_split.items() if value == True] # If a node needs a split it returns its keys\n",
        "    # check whether we reach all terminal nodes\n",
        "    if len(split_nodes) == 0:\n",
        "        break\n",
        "    # find best split positions for all nodes\n",
        "    for split_node in split_nodes:\n",
        "      data_indices = node_indices[split_node]\n",
        "      need_split[split_node] = False #Since we are splitting the node, it does not need split anymore\n",
        "       #It does not matter whether we will split t or not, since if it needs one it will be splitted\n",
        "      if len(data_indices) <= P: #If it has number of data points smaller than P (pre pruning)\n",
        "          is_terminal[split_node] = True\n",
        "      else:\n",
        "          is_terminal[split_node] = False\n",
        "\n",
        "          min_errors = np.repeat(0.0, D) \n",
        "          best_splits = np.repeat(0.0, D)\n",
        "          for d in range(D): #Since D is 1, it enters this loop only ones.\n",
        "              unique_values = np.sort(np.unique(X_train[data_indices])) \n",
        "              #Taking the middle value of each interval between possible values of the feature\n",
        "              split_positions = (unique_values[1:len(unique_values)] + unique_values[0:(len(unique_values) - 1)]) / 2\n",
        "              split_errors = np.repeat(0.0, len(split_positions)) # This will hold each score of the split\n",
        "              for s in range(len(split_positions)):\n",
        "                  left_indices = data_indices[X_train[data_indices] > split_positions[s]] #True case\n",
        "                  right_indices = data_indices[X_train[data_indices] <= split_positions[s]] #False case\n",
        "                  gm_L = np.mean(Y_train[left_indices])\n",
        "                  gm_R = np.mean(Y_train[right_indices])\n",
        "                  ##############################\n",
        "                  # Ask why this does not work.(Why there is a overfitting?)\n",
        "                  #split_errors[s] = (1/len(left_indices))*np.sum((Y_train[left_indices]-gm_L)**2) + (1/len(right_indices))*np.sum((Y_train[right_indices]-gm_R)**2)\n",
        "                  ###############################\n",
        "                  split_errors[s] = (1/len(data_indices))*(np.sum((Y_train[left_indices]-gm_L)**2) + np.sum((Y_train[right_indices]-gm_R)**2))\n",
        "              min_errors[d] = np.min(split_errors)\n",
        "              best_splits[d] = split_positions[np.argmin(split_errors)]\n",
        "            # decide where to split on which feature\n",
        "          split_d = np.argmin(min_errors)\n",
        "          node_splits[split_node] = best_splits[split_d]\n",
        "          # create left node using the selected split(True branch)\n",
        "          left_indices = data_indices[X_train[data_indices] > best_splits[split_d]]\n",
        "          node_indices[2 * split_node] = left_indices\n",
        "          is_terminal[2 * split_node] = False\n",
        "          need_split[2 * split_node] = True\n",
        "      \n",
        "          # create right node using the selected split(False Branch)\n",
        "          right_indices = data_indices[X_train[data_indices] <= best_splits[split_d]]\n",
        "          node_indices[2 * split_node + 1] = right_indices\n",
        "          is_terminal[2 * split_node + 1] = False\n",
        "          need_split[2 * split_node + 1] = True"
      ],
      "execution_count": null,
      "outputs": []
    },
    {
      "cell_type": "markdown",
      "metadata": {
        "id": "RMMK83Wtt67I"
      },
      "source": [
        "## Rule Extraction "
      ]
    },
    {
      "cell_type": "code",
      "metadata": {
        "colab": {
          "base_uri": "https://localhost:8080/"
        },
        "id": "dYw70_UFt7oQ",
        "outputId": "9882877c-95b4-4f75-cead-77b60276e9c1"
      },
      "source": [
        "terminal_nodes = [key for key, value in is_terminal.items() if value == True]\n",
        "print(len(terminal_nodes))\n",
        "for terminal_node in terminal_nodes:\n",
        "    index = terminal_node\n",
        "    rules = np.array([])\n",
        "    while index > 1:\n",
        "        parent = np.floor(index / 2)\n",
        "        if index % 2 == 0:\n",
        "            # if node is left child of its parent\n",
        "            rules = np.append(rules, \"x> {:.2f}\".format(node_splits[parent]))\n",
        "        else:\n",
        "            # if node is right child of its parent\n",
        "            rules = np.append(rules, \"x <= {:.2f}\".format(node_splits[parent]))\n",
        "        index = parent\n",
        "    rules = np.flip(rules)\n",
        "    print(\"{} => {}\".format(rules, len(node_indices[terminal_node])))"
      ],
      "execution_count": null,
      "outputs": [
        {
          "output_type": "stream",
          "name": "stdout",
          "text": [
            "15\n",
            "['x <= 2.98' 'x> 2.18'] => 12\n",
            "['x> 2.98' 'x> 4.31' 'x> 5.08'] => 1\n",
            "['x> 2.98' 'x <= 4.31' 'x <= 3.41'] => 4\n",
            "['x <= 2.98' 'x <= 2.18' 'x <= 1.72'] => 3\n",
            "['x> 2.98' 'x> 4.31' 'x <= 5.08' 'x <= 4.41'] => 10\n",
            "['x> 2.98' 'x <= 4.31' 'x> 3.41' 'x <= 3.70'] => 6\n",
            "['x <= 2.98' 'x <= 2.18' 'x> 1.72' 'x> 1.96'] => 15\n",
            "['x> 2.98' 'x> 4.31' 'x <= 5.08' 'x> 4.41' 'x <= 4.58'] => 16\n",
            "['x> 2.98' 'x <= 4.31' 'x> 3.41' 'x> 3.70' 'x> 3.84'] => 22\n",
            "['x> 2.98' 'x <= 4.31' 'x> 3.41' 'x> 3.70' 'x <= 3.84'] => 6\n",
            "['x <= 2.98' 'x <= 2.18' 'x> 1.72' 'x <= 1.96' 'x> 1.85'] => 9\n",
            "['x <= 2.98' 'x <= 2.18' 'x> 1.72' 'x <= 1.96' 'x <= 1.85'] => 17\n",
            "['x> 2.98' 'x> 4.31' 'x <= 5.08' 'x> 4.41' 'x> 4.58' 'x> 5.00'] => 1\n",
            "['x> 2.98' 'x> 4.31' 'x <= 5.08' 'x> 4.41' 'x> 4.58' 'x <= 5.00' 'x> 4.84'] => 6\n",
            "['x> 2.98' 'x> 4.31' 'x <= 5.08' 'x> 4.41' 'x> 4.58' 'x <= 5.00'\n",
            " 'x <= 4.84'] => 22\n"
          ]
        }
      ]
    },
    {
      "cell_type": "markdown",
      "metadata": {
        "id": "movcgGJq2gEy"
      },
      "source": [
        "## Finding smallest intervals for each leaf node(terminals)"
      ]
    },
    {
      "cell_type": "code",
      "metadata": {
        "id": "Vq3hVhhr2m5W"
      },
      "source": [
        "terminal_nodes = [key for key, value in is_terminal.items() if value == True]\n",
        "intervals = {} #Key is termnal node's keys, values are the smallest(narrowest) interval of them\n",
        "for terminal_node in terminal_nodes:\n",
        "    index = terminal_node\n",
        "    anInterval = np.array([np.min(X_train),np.max(X_train)]) #Setting initial boundries (min --> minimum of the set), (max --> maximum of the data set)\n",
        "    while index > 1:\n",
        "        parent = np.floor(index / 2)\n",
        "        if index % 2 == 0:  # if node is left child of its parent\n",
        "            if node_splits[parent] > anInterval[0]: # We need to narrow the interval by increasing lower bound\n",
        "              anInterval[0] = node_splits[parent] #Inner bound\n",
        "        else: # if node is right child of its parent\n",
        "            if node_splits[parent] < anInterval[1]: ## We need to narrow the interval by lowering upper bound\n",
        "              anInterval[1] = node_splits[parent] #upper bound\n",
        "        index = parent # Since we need to achive all of the rules of the path, we need to go to the parent\n",
        "    intervals[terminal_node]= anInterval # Adding the paths' rule(narrow node, combination of all rules) to the dictionary\n"
      ],
      "execution_count": null,
      "outputs": []
    },
    {
      "cell_type": "markdown",
      "metadata": {
        "id": "9chm_yRfGwMt"
      },
      "source": [
        "Taking Right Boundries and Creating Predictions Dictionary (This is done for drawing purposes)"
      ]
    },
    {
      "cell_type": "code",
      "metadata": {
        "colab": {
          "base_uri": "https://localhost:8080/"
        },
        "id": "eb6Cbc-wKPqG",
        "outputId": "01d342f1-e857-4408-eef3-5f6b5a05d218"
      },
      "source": [
        "predictions = {} #key is the node index(name or key) --> values are the predictions(this will can be used while calculating for new data points)\n",
        "# Here, there will be only the keys of leaf nodes and values\n",
        "vertical_helper = {} #This will hold right bounds of intervals of the nodes. This is only for drawing purposes\n",
        "rightBound= [] # This holds keys of the vertical helper (right bound of the intervals) as list (for drawing purposes)\n",
        "for key1 in terminal_nodes:\n",
        "    predictions[key1] = np.mean(Y_train[node_indices[key1]]) #Calculating the prediction\n",
        "    vertical_helper[intervals[key1][1]] = predictions[key1] #Adding its right bound to list\n",
        "    rightBound.append(intervals[key1][1]) \n",
        "\n",
        "rightBound = np.unique(np.array(rightBound)) # Removing repeating values\n",
        "np.sort(rightBound) # Sorting it.\n",
        "## We need to sort this array since we will plot the vertical lines as peaks, so the second y value need to be the next one\n"
      ],
      "execution_count": null,
      "outputs": [
        {
          "output_type": "execute_result",
          "data": {
            "text/plain": [
              "array([1.7165, 1.85  , 1.9585, 2.1835, 2.975 , 3.4085, 3.7   , 3.8415,\n",
              "       4.3085, 4.4085, 4.5835, 4.8415, 5.    , 5.0835, 5.1   ])"
            ]
          },
          "metadata": {},
          "execution_count": 20
        }
      ]
    },
    {
      "cell_type": "markdown",
      "metadata": {
        "id": "QKlBErB2gLuJ"
      },
      "source": [
        "## Plotting Traning Set, Test Set, Decision Tree Regression Algorithm Fit "
      ]
    },
    {
      "cell_type": "code",
      "metadata": {
        "colab": {
          "base_uri": "https://localhost:8080/",
          "height": 387
        },
        "id": "X-Z6IqgwgLEV",
        "outputId": "8d4535cc-ddc9-4484-f622-5c39f8832fa3"
      },
      "source": [
        "plt.figure(figsize = (10, 6))\n",
        "plt.plot(X_train,Y_train,\"b.\",markersize=10) #Plotting training set\n",
        "plt.plot(X_test,Y_test,\"r.\",markersize=10) #Plotting test set\n",
        "terminal_nodes = [key for key, value in is_terminal.items() if value == True]\n",
        "\n",
        "for key1 in terminal_nodes: #Horizantal\n",
        "    plt.plot([intervals[key1][0], intervals[key1][1]], [predictions[key1], predictions[key1]], \"k-\")\n",
        "\n",
        "for i in range(len(rightBound)-1): # Plotting vertical lines\n",
        "  currB = rightBound[i];\n",
        "  peakB = rightBound[i+1];\n",
        "  plt.plot([currB,currB], [vertical_helper[currB], vertical_helper[peakB]], \"k-\")\n",
        "\n",
        "plt.ylabel(\"Waiting time to next eruption(min)\")\n",
        "plt.xlabel(\"Eruption Time(min)\")\n",
        "plt.show()\n"
      ],
      "execution_count": null,
      "outputs": [
        {
          "output_type": "display_data",
          "data": {
            "image/png": "[encoded data removed]",
            "text/plain": [
              "<Figure size 720x432 with 1 Axes>"
            ]
          },
          "metadata": {
            "needs_background": "light"
          }
        }
      ]
    },
    {
      "cell_type": "markdown",
      "metadata": {
        "id": "rnNyoSCcmPLy"
      },
      "source": [
        "Calculating RMSE FOR TRAINING AND TEST SET"
      ]
    },
    {
      "cell_type": "code",
      "metadata": {
        "id": "gundRwmLmPkD"
      },
      "source": [
        "rmse_train = 0\n",
        "rmse_test = 0 \n",
        "\n",
        "for i in range(N_train): #For every data in the traning set\n",
        "  for key in intervals.keys(): # For a key of each interval\n",
        "    if( X_train[i] > intervals[key][0] and X_train[i] <= intervals[key][1]): # Find a interval where x value inside it\n",
        "      rmse_train += (Y_train[i] - predictions[key])**2 # add (real value - prediction)**2  to rmse \n",
        "      break\n",
        "rmse_train = math.sqrt(rmse_train/N_train) #Taking square root of squared difference/N\n",
        "\n",
        "for i in range(N_test):\n",
        "  for key in intervals.keys():\n",
        "    if( X_test[i] > intervals[key][0] and X_test[i] <= intervals[key][1]): # It means it found an fitted interval\n",
        "      rmse_test += (Y_test[i] - predictions[key])**2 # # add (real value - prediction)**2  to rmse\n",
        "      break\n",
        "rmse_test = math.sqrt(rmse_test/N_test) #Taking square root of rmse/N"
      ],
      "execution_count": null,
      "outputs": []
    },
    {
      "cell_type": "code",
      "metadata": {
        "colab": {
          "base_uri": "https://localhost:8080/"
        },
        "id": "oAzathybo28S",
        "outputId": "3a5468c0-eb27-4b77-ec32-188dfc4e13f4"
      },
      "source": [
        "print(\"RMSE on training set is {} when P is {}\".format(rmse_train,P))\n",
        "print(\"RMSE on test set is {} when P is {}\".format(rmse_test,P))"
      ],
      "execution_count": null,
      "outputs": [
        {
          "output_type": "stream",
          "name": "stdout",
          "text": [
            "RMSE on training set is 4.511675842160384 when P is 25\n",
            "RMSE on test set is 6.454083413352087 when P is 25\n"
          ]
        }
      ]
    },
    {
      "cell_type": "markdown",
      "metadata": {
        "id": "e84p9uBLqAi2"
      },
      "source": [
        "Learn decision trees for each P (5,10,15,20,25,30,35,40,45,50)"
      ]
    },
    {
      "cell_type": "code",
      "metadata": {
        "id": "fh3GgvYdqAYd"
      },
      "source": [
        "# This code has the same implementation of the three when P is 25. I use the same code in a for loop, and calculate RMSE for each P\n",
        "# and store them array(below).\n",
        "rmse_arr1 = [0,0,0,0,0,0,0,0,0,0]\n",
        "rmse_arr2 = [0,0,0,0,0,0,0,0,0,0]\n",
        "for p in range(1,11):\n",
        "  P=p*5\n",
        "  node_indices = {} # Key --> Node , Value--> the indices of the data points which belongs to the node\n",
        "  is_terminal = {} # Key --> Node, value --> boolean To know whether a node is terminal or not\n",
        "  need_split = {} # Key --> Node, value--> boolean To know whether a split needs a split or not\n",
        "  node_splits = {} # The values(boundries) of the splits for each node\n",
        "  node_indices[1] = np.array(range(N_train))\n",
        "  is_terminal[1] = False\n",
        "  need_split[1] = True\n",
        "  # learning algorithm\n",
        "  iteration=0\n",
        "  while True:\n",
        "      iteration+=1\n",
        "      # find nodes that need splitting\n",
        "      # In the first iteration, it only returns root node\n",
        "      split_nodes = [key for key, value in need_split.items() if value == True] # If a node needs a split it returns its keys\n",
        "      # check whether we reach all terminal nodes\n",
        "      if len(split_nodes) == 0:\n",
        "          break\n",
        "      # find best split positions for all nodes\n",
        "      for split_node in split_nodes:\n",
        "        data_indices = node_indices[split_node]\n",
        "        need_split[split_node] = False #Since we are splitting the node, it does not need split anymore\n",
        "        #It does not matter whether we will split t or not, since if it needs one it will be splitted\n",
        "        if len(data_indices) <= P: #If it has number of data points smaller than P (pre pruning)\n",
        "            is_terminal[split_node] = True\n",
        "        else:\n",
        "            is_terminal[split_node] = False\n",
        "\n",
        "            min_errors = np.repeat(0.0, D) \n",
        "            best_splits = np.repeat(0.0, D)\n",
        "            for d in range(D): #Since D is 1, it enters this loop only ones.\n",
        "                unique_values = np.sort(np.unique(X_train[data_indices])) \n",
        "                #Taking the middle value of each interval between possible values of the feature\n",
        "                split_positions = (unique_values[1:len(unique_values)] + unique_values[0:(len(unique_values) - 1)]) / 2\n",
        "                split_errors = np.repeat(0.0, len(split_positions)) # This will hold each score of the split\n",
        "                for s in range(len(split_positions)):\n",
        "                    left_indices = data_indices[X_train[data_indices] > split_positions[s]] #True case\n",
        "                    right_indices = data_indices[X_train[data_indices] <= split_positions[s]] #False case\n",
        "                    gm_L = np.mean(Y_train[left_indices])\n",
        "                    gm_R = np.mean(Y_train[right_indices])\n",
        "                    ##############################\n",
        "                    # Ask why this does not work.(Why there is a overfitting?)\n",
        "                    #split_errors[s] = (1/len(left_indices))*np.sum((Y_train[left_indices]-gm_L)**2) + (1/len(right_indices))*np.sum((Y_train[right_indices]-gm_R)**2)\n",
        "                    ###############################\n",
        "                    split_errors[s] = (1/len(data_indices))*(np.sum((Y_train[left_indices]-gm_L)**2) + np.sum((Y_train[right_indices]-gm_R)**2))\n",
        "                min_errors[d] = np.min(split_errors)\n",
        "                best_splits[d] = split_positions[np.argmin(split_errors)]\n",
        "              # decide where to split on which feature\n",
        "            split_d = np.argmin(min_errors)\n",
        "            node_splits[split_node] = best_splits[split_d]\n",
        "            # create left node using the selected split(True branch)\n",
        "            left_indices = data_indices[X_train[data_indices] > best_splits[split_d]]\n",
        "            node_indices[2 * split_node] = left_indices\n",
        "            is_terminal[2 * split_node] = False\n",
        "            need_split[2 * split_node] = True\n",
        "        \n",
        "            # create right node using the selected split(False Branch)\n",
        "            right_indices = data_indices[X_train[data_indices] <= best_splits[split_d]]\n",
        "            node_indices[2 * split_node + 1] = right_indices\n",
        "            is_terminal[2 * split_node + 1] = False\n",
        "            need_split[2 * split_node + 1] = True\n",
        "\n",
        "  terminal_nodes = [key for key, value in is_terminal.items() if value == True]\n",
        "  intervals = {} #Key is termnal node's keys, values are the smallest(narrowest) interval of them\n",
        "  for terminal_node in terminal_nodes:\n",
        "      index = terminal_node\n",
        "      anInterval = np.array([np.min(X_train),np.max(X_train)]) #Setting initial boundries (min --> minimum of the set), (max --> maximum of the data set)\n",
        "      while index > 1:\n",
        "          parent = np.floor(index / 2)\n",
        "          if index % 2 == 0:  # if node is left child of its parent\n",
        "              if node_splits[parent] > anInterval[0]: # We need to narrow the interval by increasing lower bound\n",
        "                anInterval[0] = node_splits[parent] #Inner bound\n",
        "          else: # if node is right child of its parent\n",
        "              if node_splits[parent] < anInterval[1]: ## We need to narrow the interval by lowering upper bound\n",
        "                anInterval[1] = node_splits[parent] #upper bound\n",
        "          index = parent # Since we need to achive all of the rules of the path, we need to go to the parent\n",
        "      intervals[terminal_node]= anInterval # Adding the paths' rule(narrow node, combination of all rules) to the dictionary\n",
        "  \n",
        "  \n",
        "  predictions = {} #key is the node index(name or key) --> values are the predictions(this will can be used while calculating for new data points)\n",
        "  # Here, there will be only the keys of leaf nodes and values\n",
        "  vertical_helper = {} #This will hold right bounds of intervals of the nodes. This is only for drawing purposes\n",
        "  rightBound= [] # This holds keys of the vertical helper (right bound of the intervals) as list (for drawing purposes)\n",
        "  for key1 in terminal_nodes:\n",
        "      predictions[key1] = np.mean(Y_train[node_indices[key1]]) #Calculating the prediction\n",
        "      vertical_helper[intervals[key1][1]] = predictions[key1] #Adding its right bound to list\n",
        "      rightBound.append(intervals[key1][1]) \n",
        "\n",
        "  rightBound = np.unique(np.array(rightBound)) # Removing repeating values\n",
        "  np.sort(rightBound) # Sorting it.\n",
        "  ## We need to sort this array since we will plot the vertical lines as peaks, so the second y value need to be the next one\n",
        "\n",
        "\n",
        "  for i in range(N_train): #For every data in the traning set\n",
        "    for key in intervals.keys(): # For a key of each interval\n",
        "      if( X_train[i] > intervals[key][0] and X_train[i] <= intervals[key][1]): # Find a interval where x value inside it\n",
        "        rmse_train += (Y_train[i] - predictions[key])**2 # add (real value - prediction)**2  to rmse \n",
        "        break\n",
        "  rmse_train = math.sqrt(rmse_train/N_train) #Taking square root of squared difference/N\n",
        "\n",
        "  for i in range(N_test):\n",
        "    for key in intervals.keys():\n",
        "      if( X_test[i] > intervals[key][0] and X_test[i] <= intervals[key][1]): # It means it found an fitted interval\n",
        "        rmse_test += (Y_test[i] - predictions[key])**2 # # add (real value - prediction)**2  to rmse\n",
        "        break\n",
        "  rmse_test = math.sqrt(rmse_test/N_test) #Taking square root of rmse/N\n",
        "\n",
        "  rmse_arr1[p-1] = rmse_train\n",
        "  rmse_arr2[p-1] = rmse_test\n"
      ],
      "execution_count": null,
      "outputs": []
    },
    {
      "cell_type": "markdown",
      "metadata": {
        "id": "NQkQTT1RsDp4"
      },
      "source": [
        "Plotting RMSE FOR P=5,10,15,20,25,30,35,40,45,50"
      ]
    },
    {
      "cell_type": "code",
      "metadata": {
        "colab": {
          "base_uri": "https://localhost:8080/",
          "height": 605
        },
        "id": "8plObm7SsFaO",
        "outputId": "f70391ea-4923-4ad5-c326-03217fa6e069"
      },
      "source": [
        "plt.figure(figsize = (10, 10))\n",
        "x_values = range(5,51,5)\n",
        "plt.plot(x_values,rmse_arr1,\"b-\",markersize=10) #Plotting training set\n",
        "plt.plot(x_values,rmse_arr2,\"r-\",markersize=10) #Plotting training set\n",
        "plt.plot(x_values,rmse_arr1,\"b.\",markersize=10) #Plotting training set\n",
        "plt.plot(x_values,rmse_arr2,\"r.\",markersize=10) #Plotting training set\n",
        "plt.xlabel(\"P Values\")\n",
        "plt.ylabel(\"RMSE\")\n",
        "plt.show()"
      ],
      "execution_count": null,
      "outputs": [
        {
          "output_type": "display_data",
          "data": {
            "image/png": "[encoded data removed]",
            "text/plain": [
              "<Figure size 720x720 with 1 Axes>"
            ]
          },
          "metadata": {
            "needs_background": "light"
          }
        }
      ]
    }
  ]
}